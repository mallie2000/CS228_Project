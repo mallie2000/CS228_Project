{
 "cells": [
  {
   "cell_type": "markdown",
   "metadata": {},
   "source": [
    "# Downloading and Cleaning Dataset"
   ]
  },
  {
   "cell_type": "code",
   "execution_count": null,
   "metadata": {},
   "outputs": [],
   "source": [
    "#Assuming dataset is downloaded and stored in the data folder\n",
    "import os\n",
    "book_file = \"cleaned_merged_fairy_tales_without_eos.txt\"\n",
    "title_file = \"book_titles.txt\"\n",
    "\n",
    "book_path = os.path.join(\"data\",book_file)\n",
    "title_path = os.path.join(\"data\",title_file)\n",
    "    "
   ]
  },
  {
   "cell_type": "markdown",
   "metadata": {},
   "source": [
    "## Trying to extract titles from text file"
   ]
  },
  {
   "cell_type": "code",
   "execution_count": null,
   "metadata": {},
   "outputs": [],
   "source": [
    "all_titles = None\n",
    "with open(title_path,mode='r') as titles:\n",
    "    all_titles = titles.readlines()\n",
    "    all_titles = [i.strip() for i in all_titles]\n",
    "\n",
    "minor_words = [\n",
    "    \"a\", \"an\", \"the\",        # Articles\n",
    "    \"and\", \"but\", \"for\", \"nor\", \"or\", \"so\", \"yet\",  # Coordinating Conjunctions\n",
    "    \"at\", \"by\", \"for\", \"in\", \"nor\", \"of\", \"on\", \"to\", \"up\", \"with\",  # Prepositions (less than 4 letters)\n",
    "    \"as\", \"if\", \"is\", \"it\", \"be\", \"do\", \"has\", \"had\", \"have\", \"not\", \"or\", \"that\", \"than\", \"when\", \"where\",  # Short words\n",
    "    \"he\", \"she\", \"it\", \"they\", \"you\", \"we\", \"him\", \"her\", \"them\"  # Pronouns\n",
    "]\n",
    "\n",
    "\n",
    "with open(book_path, mode='r') as books:\n",
    "    with open(\"out.txt\",mode='w') as outfile:\n",
    "        lines = books.readlines()\n",
    "        for line in lines:\n",
    "            line = line.strip()"
   ]
  },
  {
   "cell_type": "code",
   "execution_count": null,
   "metadata": {},
   "outputs": [],
   "source": []
  }
 ],
 "metadata": {
  "kernelspec": {
   "display_name": "deepLearning",
   "language": "python",
   "name": "python3"
  },
  "language_info": {
   "codemirror_mode": {
    "name": "ipython",
    "version": 3
   },
   "file_extension": ".py",
   "mimetype": "text/x-python",
   "name": "python",
   "nbconvert_exporter": "python",
   "pygments_lexer": "ipython3",
   "version": "3.12.7"
  }
 },
 "nbformat": 4,
 "nbformat_minor": 2
}
